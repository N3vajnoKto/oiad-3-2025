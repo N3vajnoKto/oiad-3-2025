{
 "cells": [
  {
   "cell_type": "code",
   "id": "initial_id",
   "metadata": {
    "collapsed": true,
    "ExecuteTime": {
     "end_time": "2025-09-30T17:01:43.757562Z",
     "start_time": "2025-09-30T17:01:42.123959Z"
    }
   },
   "source": [
    "from collections import Counter\n",
    "\n",
    "import matplotlib.pyplot as plt\n",
    "import pandas as pd\n",
    "import scipy.stats\n",
    "\n",
    "data = pd.read_csv(\"students_simple.csv\")"
   ],
   "outputs": [],
   "execution_count": 1
  },
  {
   "metadata": {
    "ExecuteTime": {
     "end_time": "2025-09-30T17:03:41.516116Z",
     "start_time": "2025-09-30T17:03:41.512102Z"
    }
   },
   "cell_type": "code",
   "source": [
    "N = 8\n",
    "n1 = N % 5\n",
    "n2 = (N ** 2) % 5 + 5\n",
    "n1, n2"
   ],
   "id": "4fe7aaedd24a77bd",
   "outputs": [
    {
     "data": {
      "text/plain": [
       "(3, 9)"
      ]
     },
     "execution_count": 9,
     "metadata": {},
     "output_type": "execute_result"
    }
   ],
   "execution_count": 9
  },
  {
   "metadata": {
    "ExecuteTime": {
     "end_time": "2025-09-30T17:03:18.747156Z",
     "start_time": "2025-09-30T17:03:18.742570Z"
    }
   },
   "cell_type": "code",
   "source": [
    "x = data.iloc[:, n1]  #iq\n",
    "x"
   ],
   "id": "b6126f8bd85e39d3",
   "outputs": [
    {
     "data": {
      "text/plain": [
       "0      95\n",
       "1     115\n",
       "2     111\n",
       "3      97\n",
       "4     105\n",
       "5      98\n",
       "6     109\n",
       "7     120\n",
       "8     122\n",
       "9      92\n",
       "10    110\n",
       "11    102\n",
       "12    108\n",
       "13    100\n",
       "14    104\n",
       "15    104\n",
       "16    128\n",
       "17    106\n",
       "18    105\n",
       "19    117\n",
       "Name: iq, dtype: int64"
      ]
     },
     "execution_count": 7,
     "metadata": {},
     "output_type": "execute_result"
    }
   ],
   "execution_count": 7
  },
  {
   "metadata": {
    "ExecuteTime": {
     "end_time": "2025-09-30T17:03:30.545875Z",
     "start_time": "2025-09-30T17:03:30.540201Z"
    }
   },
   "cell_type": "code",
   "source": [
    "y = data.iloc[:, n2]  #test_time\n",
    "y"
   ],
   "id": "15151ff53a70afdf",
   "outputs": [
    {
     "data": {
      "text/plain": [
       "0      8.5\n",
       "1      6.2\n",
       "2      6.8\n",
       "3     12.0\n",
       "4      7.5\n",
       "5     10.0\n",
       "6      7.2\n",
       "7      4.2\n",
       "8      3.5\n",
       "9      9.5\n",
       "10     7.8\n",
       "11     8.0\n",
       "12     6.0\n",
       "13     4.8\n",
       "14     8.6\n",
       "15    10.0\n",
       "16     4.5\n",
       "17    12.5\n",
       "18    10.5\n",
       "19     6.5\n",
       "Name: test_time, dtype: float64"
      ]
     },
     "execution_count": 8,
     "metadata": {},
     "output_type": "execute_result"
    }
   ],
   "execution_count": 8
  },
  {
   "metadata": {
    "ExecuteTime": {
     "end_time": "2025-09-30T17:06:35.015045Z",
     "start_time": "2025-09-30T17:06:35.012108Z"
    }
   },
   "cell_type": "code",
   "source": [
    "import numpy as np\n",
    "\n",
    "x_sign = np.sign(x - x.mean())\n",
    "y_sign = np.sign(y - y.mean())"
   ],
   "id": "a25dd465de8fa400",
   "outputs": [],
   "execution_count": 13
  },
  {
   "metadata": {
    "ExecuteTime": {
     "end_time": "2025-09-30T17:07:40.390034Z",
     "start_time": "2025-09-30T17:07:40.387273Z"
    }
   },
   "cell_type": "code",
   "source": [
    "N_minus = np.count_nonzero(x_sign - y_sign)\n",
    "N_plus = x.shape[0] - N_minus"
   ],
   "id": "cdec135d9e359701",
   "outputs": [],
   "execution_count": 14
  },
  {
   "metadata": {
    "ExecuteTime": {
     "end_time": "2025-09-30T17:08:14.778041Z",
     "start_time": "2025-09-30T17:08:14.774557Z"
    }
   },
   "cell_type": "code",
   "source": [
    "fechner_corr = (N_plus - N_minus) / (N_plus + N_minus)\n",
    "fechner_corr"
   ],
   "id": "5296928a4b2ff68c",
   "outputs": [
    {
     "data": {
      "text/plain": [
       "np.float64(-0.7)"
      ]
     },
     "execution_count": 16,
     "metadata": {},
     "output_type": "execute_result"
    }
   ],
   "execution_count": 16
  },
  {
   "metadata": {
    "ExecuteTime": {
     "end_time": "2025-09-30T17:11:47.553921Z",
     "start_time": "2025-09-30T17:11:47.551772Z"
    }
   },
   "cell_type": "code",
   "source": [
    "x_norm = x - x.mean()\n",
    "y_norm = y - y.mean()"
   ],
   "id": "34dd3bb91468ebd4",
   "outputs": [],
   "execution_count": 17
  },
  {
   "metadata": {
    "ExecuteTime": {
     "end_time": "2025-09-30T17:12:55.526408Z",
     "start_time": "2025-09-30T17:12:55.522416Z"
    }
   },
   "cell_type": "code",
   "source": [
    "pirson = np.sum(x_norm * y_norm) / (x.shape[0] * np.std(x_norm) * np.std(y_norm))\n",
    "pirson"
   ],
   "id": "3036e96138ca2d09",
   "outputs": [
    {
     "data": {
      "text/plain": [
       "np.float64(-0.6818137442428807)"
      ]
     },
     "execution_count": 18,
     "metadata": {},
     "output_type": "execute_result"
    }
   ],
   "execution_count": 18
  },
  {
   "metadata": {
    "ExecuteTime": {
     "end_time": "2025-09-30T18:43:36.689696Z",
     "start_time": "2025-09-30T18:43:36.685007Z"
    }
   },
   "cell_type": "code",
   "source": "np.sqrt(1 - pirson ** 2) / np.sqrt(n-2)",
   "id": "edbe1a44e3066d10",
   "outputs": [
    {
     "data": {
      "text/plain": [
       "np.float64(0.17242228815735186)"
      ]
     },
     "execution_count": 91,
     "metadata": {},
     "output_type": "execute_result"
    }
   ],
   "execution_count": 91
  },
  {
   "metadata": {
    "ExecuteTime": {
     "end_time": "2025-09-30T17:55:34.145305Z",
     "start_time": "2025-09-30T17:55:34.142746Z"
    }
   },
   "cell_type": "code",
   "source": [
    "from scipy.stats import rankdata\n",
    "\n",
    "x_rank = rankdata(x)\n",
    "y_rank = rankdata(y)"
   ],
   "id": "a56008263f7878b3",
   "outputs": [],
   "execution_count": 35
  },
  {
   "metadata": {
    "ExecuteTime": {
     "end_time": "2025-09-30T17:41:47.968557Z",
     "start_time": "2025-09-30T17:41:47.965701Z"
    }
   },
   "cell_type": "code",
   "source": "n = x.shape[0]",
   "id": "e28a947429c28a33",
   "outputs": [],
   "execution_count": 28
  },
  {
   "metadata": {
    "ExecuteTime": {
     "end_time": "2025-09-30T17:42:14.255769Z",
     "start_time": "2025-09-30T17:42:14.251040Z"
    }
   },
   "cell_type": "code",
   "source": [
    "counter1 = Counter(x_rank)\n",
    "counter2 = Counter(y_rank)\n",
    "term = ((n ** 3 - n) / 6)\n",
    "T_x = sum(k ** 3 - k for _, k in counter1.items()) / 12\n",
    "T_y = sum(k ** 3 - k for _, k in counter2.items()) / 12\n",
    "numenator = term - np.sum(np.pow(x_rank - y_rank, 2)) - T_x - T_y\n",
    "denominator = np.sqrt((term - T_x) * (term - T_y))\n",
    "spierman = numenator / denominator\n",
    "spierman"
   ],
   "id": "65a79e664787107b",
   "outputs": [
    {
     "data": {
      "text/plain": [
       "np.float64(-0.68196352532076)"
      ]
     },
     "execution_count": 31,
     "metadata": {},
     "output_type": "execute_result"
    }
   ],
   "execution_count": 31
  },
  {
   "metadata": {
    "ExecuteTime": {
     "end_time": "2025-09-30T17:55:38.356007Z",
     "start_time": "2025-09-30T17:55:38.349824Z"
    }
   },
   "cell_type": "code",
   "source": [
    "concordant = 0\n",
    "discordant = 0\n",
    "x_ties = 0\n",
    "y_ties = 0\n",
    "\n",
    "for i in range(n):\n",
    "    for j in range(i + 1, n):\n",
    "        x_diff = x_rank[i] - x_rank[j]\n",
    "        y_diff = y_rank[i] - y_rank[j]\n",
    "\n",
    "        product = x_diff * y_diff\n",
    "\n",
    "        if product > 0:\n",
    "            concordant += 1\n",
    "        elif product < 0:\n",
    "            discordant += 1\n",
    "        else:\n",
    "            if x_diff == 0:\n",
    "                x_ties += 1\n",
    "            if y_diff == 0:\n",
    "                y_ties += 1\n",
    "\n",
    "total_pairs = n * (n - 1) // 2\n",
    "numerator = concordant - discordant\n",
    "denominator = np.sqrt((total_pairs - x_ties) * (total_pairs - y_ties))\n",
    "\n",
    "kendall = numerator / denominator\n",
    "kendall"
   ],
   "id": "a7994b03ec660e32",
   "outputs": [
    {
     "data": {
      "text/plain": [
       "np.float64(-0.503980552812724)"
      ]
     },
     "execution_count": 36,
     "metadata": {},
     "output_type": "execute_result"
    }
   ],
   "execution_count": 36
  },
  {
   "metadata": {
    "ExecuteTime": {
     "end_time": "2025-09-30T17:59:15.814359Z",
     "start_time": "2025-09-30T17:59:15.754657Z"
    }
   },
   "cell_type": "code",
   "source": [
    "from math import log2\n",
    "import matplotlib.pyplot as plt\n",
    "\n",
    "plt.hist(x, bins=1+int(log2(n)))"
   ],
   "id": "282560b4dc1ade71",
   "outputs": [
    {
     "data": {
      "text/plain": [
       "(array([4., 7., 4., 3., 2.]),\n",
       " array([ 92. ,  99.2, 106.4, 113.6, 120.8, 128. ]),\n",
       " <BarContainer object of 5 artists>)"
      ]
     },
     "execution_count": 45,
     "metadata": {},
     "output_type": "execute_result"
    },
    {
     "data": {
      "text/plain": [
       "<Figure size 640x480 with 1 Axes>"
      ],
      "image/png": "[encoded data removed]"
     },
     "metadata": {},
     "output_type": "display_data"
    }
   ],
   "execution_count": 45
  },
  {
   "metadata": {
    "ExecuteTime": {
     "end_time": "2025-09-30T17:59:13.234094Z",
     "start_time": "2025-09-30T17:59:13.168593Z"
    }
   },
   "cell_type": "code",
   "source": "plt.hist(x, bins=n)",
   "id": "4f29e25dc467657d",
   "outputs": [
    {
     "data": {
      "text/plain": [
       "(array([1., 1., 1., 1., 1., 1., 2., 3., 1., 1., 2., 0., 1., 1., 0., 1., 1.,\n",
       "        0., 0., 1.]),\n",
       " array([ 92. ,  93.8,  95.6,  97.4,  99.2, 101. , 102.8, 104.6, 106.4,\n",
       "        108.2, 110. , 111.8, 113.6, 115.4, 117.2, 119. , 120.8, 122.6,\n",
       "        124.4, 126.2, 128. ]),\n",
       " <BarContainer object of 20 artists>)"
      ]
     },
     "execution_count": 44,
     "metadata": {},
     "output_type": "execute_result"
    },
    {
     "data": {
      "text/plain": [
       "<Figure size 640x480 with 1 Axes>"
      ],
      "image/png": "[encoded data removed]"
     },
     "metadata": {},
     "output_type": "display_data"
    }
   ],
   "execution_count": 44
  },
  {
   "metadata": {
    "ExecuteTime": {
     "end_time": "2025-09-30T17:59:27.885250Z",
     "start_time": "2025-09-30T17:59:27.833145Z"
    }
   },
   "cell_type": "code",
   "source": "plt.hist(y, bins=1+int(log2(n)))",
   "id": "fd51674382deea24",
   "outputs": [
    {
     "data": {
      "text/plain": [
       "(array([4., 4., 6., 4., 2.]),\n",
       " array([ 3.5,  5.3,  7.1,  8.9, 10.7, 12.5]),\n",
       " <BarContainer object of 5 artists>)"
      ]
     },
     "execution_count": 46,
     "metadata": {},
     "output_type": "execute_result"
    },
    {
     "data": {
      "text/plain": [
       "<Figure size 640x480 with 1 Axes>"
      ],
      "image/png": "[encoded data removed]"
     },
     "metadata": {},
     "output_type": "display_data"
    }
   ],
   "execution_count": 46
  },
  {
   "metadata": {
    "ExecuteTime": {
     "end_time": "2025-09-30T17:59:37.419347Z",
     "start_time": "2025-09-30T17:59:37.355002Z"
    }
   },
   "cell_type": "code",
   "source": "plt.hist(y, bins=n)",
   "id": "641bf6f5dc03ff34",
   "outputs": [
    {
     "data": {
      "text/plain": [
       "(array([1., 1., 2., 0., 0., 1., 2., 1., 2., 1., 1., 2., 0., 1., 2., 1., 0.,\n",
       "        0., 1., 1.]),\n",
       " array([ 3.5 ,  3.95,  4.4 ,  4.85,  5.3 ,  5.75,  6.2 ,  6.65,  7.1 ,\n",
       "         7.55,  8.  ,  8.45,  8.9 ,  9.35,  9.8 , 10.25, 10.7 , 11.15,\n",
       "        11.6 , 12.05, 12.5 ]),\n",
       " <BarContainer object of 20 artists>)"
      ]
     },
     "execution_count": 47,
     "metadata": {},
     "output_type": "execute_result"
    },
    {
     "data": {
      "text/plain": [
       "<Figure size 640x480 with 1 Axes>"
      ],
      "image/png": "[encoded data removed]"
     },
     "metadata": {},
     "output_type": "display_data"
    }
   ],
   "execution_count": 47
  },
  {
   "metadata": {
    "ExecuteTime": {
     "end_time": "2025-09-30T18:00:08.225631Z",
     "start_time": "2025-09-30T18:00:08.162673Z"
    }
   },
   "cell_type": "code",
   "source": "plt.scatter(x, y)",
   "id": "8ca3ca9ec7f6f68f",
   "outputs": [
    {
     "data": {
      "text/plain": [
       "<matplotlib.collections.PathCollection at 0x11a899a90>"
      ]
     },
     "execution_count": 48,
     "metadata": {},
     "output_type": "execute_result"
    },
    {
     "data": {
      "text/plain": [
       "<Figure size 640x480 with 1 Axes>"
      ],
      "image/png": "[encoded data removed]"
     },
     "metadata": {},
     "output_type": "display_data"
    }
   ],
   "execution_count": 48
  },
  {
   "metadata": {
    "ExecuteTime": {
     "end_time": "2025-09-30T18:51:00.706325Z",
     "start_time": "2025-09-30T18:51:00.702750Z"
    }
   },
   "cell_type": "code",
   "source": [
    "a = pirson * np.std(y) / np.var(x)\n",
    "b=np.mean(y) - a * np.mean(x)"
   ],
   "id": "4302a9a073b95ad5",
   "outputs": [],
   "execution_count": 96
  },
  {
   "metadata": {
    "ExecuteTime": {
     "end_time": "2025-09-30T18:15:04.628230Z",
     "start_time": "2025-09-30T18:15:04.567023Z"
    }
   },
   "cell_type": "code",
   "source": [
    "plt.scatter(x, y, color='blue', label='Данные')\n",
    "\n",
    "x_line = np.linspace(min(x), max(x), 100)\n",
    "y_line = a * x_line + b\n",
    "\n",
    "plt.plot(x_line, y_line, color='red', label=f'y = {a}x + {b}')\n",
    "\n",
    "plt.xlabel('X')\n",
    "plt.ylabel('Y')\n",
    "plt.legend()\n",
    "plt.grid(True)\n",
    "plt.show()"
   ],
   "id": "1a1be07f8d69cc96",
   "outputs": [
    {
     "data": {
      "text/plain": [
       "<Figure size 640x480 with 1 Axes>"
      ],
      "image/png": "[encoded data removed]"
     },
     "metadata": {},
     "output_type": "display_data"
    }
   ],
   "execution_count": 59
  },
  {
   "metadata": {
    "ExecuteTime": {
     "end_time": "2025-09-30T18:23:17.239645Z",
     "start_time": "2025-09-30T18:23:17.235039Z"
    }
   },
   "cell_type": "code",
   "source": [
    "X_n = np.c_[np.ones(n), x, x**2]\n",
    "y_n = y\n",
    "XtX = X_n.T @ X_n\n",
    "XtX_inv = np.linalg.inv(XtX)\n",
    "Xty = X_n.T @ y_n\n",
    "beta = XtX_inv @ Xty\n",
    "beta"
   ],
   "id": "15e52d42e619f6c3",
   "outputs": [
    {
     "data": {
      "text/plain": [
       "array([-1.18826559e+01,  5.39594178e-01, -3.29986046e-03])"
      ]
     },
     "execution_count": 61,
     "metadata": {},
     "output_type": "execute_result"
    }
   ],
   "execution_count": 61
  },
  {
   "metadata": {
    "ExecuteTime": {
     "end_time": "2025-09-30T18:25:08.930548Z",
     "start_time": "2025-09-30T18:25:08.866731Z"
    }
   },
   "cell_type": "code",
   "source": [
    "plt.scatter(x, y, color='blue', label='Данные')\n",
    "\n",
    "x_line = np.linspace(min(x), max(x), 100)\n",
    "y_line = beta[2] * np.pow(x_line, 2) + beta[1] * x_line + beta[0]\n",
    "\n",
    "plt.plot(x_line, y_line, color='red', label=f'y = {beta[2]}x^2 + {beta[1]}x + {beta[0]}')\n",
    "\n",
    "plt.xlabel('X')\n",
    "plt.ylabel('Y')\n",
    "plt.legend()\n",
    "plt.grid(True)\n",
    "plt.show()"
   ],
   "id": "68f3d1125fb1e0bb",
   "outputs": [
    {
     "data": {
      "text/plain": [
       "<Figure size 640x480 with 1 Axes>"
      ],
      "image/png": "[encoded data removed]"
     },
     "metadata": {},
     "output_type": "display_data"
    }
   ],
   "execution_count": 63
  },
  {
   "metadata": {
    "ExecuteTime": {
     "end_time": "2025-09-30T18:50:41.455169Z",
     "start_time": "2025-09-30T18:50:41.448195Z"
    }
   },
   "cell_type": "code",
   "source": [
    "x_inv = 1 / x\n",
    "X_n = np.c_[np.ones(n), x_inv]\n",
    "y_n = y\n",
    "XtX = X_n.T @ X_n\n",
    "XtX_inv = np.linalg.inv(XtX)\n",
    "Xty = X_n.T @ y_n\n",
    "beta = XtX_inv @ Xty\n",
    "beta"
   ],
   "id": "ee2f4c1e93a20c6c",
   "outputs": [
    {
     "data": {
      "text/plain": [
       "array([ -11.88594408, 2091.874046  ])"
      ]
     },
     "execution_count": 94,
     "metadata": {},
     "output_type": "execute_result"
    }
   ],
   "execution_count": 94
  },
  {
   "metadata": {
    "ExecuteTime": {
     "end_time": "2025-09-30T18:40:11.774476Z",
     "start_time": "2025-09-30T18:40:11.676033Z"
    }
   },
   "cell_type": "code",
   "source": [
    "plt.scatter(x, y, color='blue', label='Данные')\n",
    "\n",
    "x_line = np.linspace(min(x), max(x), 100)\n",
    "y_line = (beta[1] / x_line) + beta[0]\n",
    "\n",
    "plt.plot(x_line, y_line, color='red', label=f'y = {beta[1]}/x + {beta[0]}')\n",
    "\n",
    "plt.xlabel('X')\n",
    "plt.ylabel('Y')\n",
    "plt.legend()\n",
    "plt.grid(True)\n",
    "plt.show()"
   ],
   "id": "129f6a4c66d794ce",
   "outputs": [
    {
     "data": {
      "text/plain": [
       "<Figure size 640x480 with 1 Axes>"
      ],
      "image/png": "[encoded data removed]"
     },
     "metadata": {},
     "output_type": "display_data"
    }
   ],
   "execution_count": 87
  },
  {
   "metadata": {
    "ExecuteTime": {
     "end_time": "2025-09-30T18:50:43.629376Z",
     "start_time": "2025-09-30T18:50:43.584583Z"
    }
   },
   "cell_type": "code",
   "source": [
    "from scipy.stats import fisher_exact\n",
    "\n",
    "fisher_exact([(beta[1] / x) + beta[0], y])"
   ],
   "id": "750020f1a211a124",
   "outputs": [
    {
     "data": {
      "text/plain": [
       "SignificanceResult(statistic=np.float64(4.294976267716137e-14), pvalue=np.float64(0.9991))"
      ]
     },
     "execution_count": 95,
     "metadata": {},
     "output_type": "execute_result"
    }
   ],
   "execution_count": 95
  },
  {
   "metadata": {
    "ExecuteTime": {
     "end_time": "2025-09-30T18:41:23.952035Z",
     "start_time": "2025-09-30T18:41:23.946065Z"
    }
   },
   "cell_type": "code",
   "source": [
    "x_inv = x\n",
    "X_n = np.c_[np.ones(n), x]\n",
    "y_n = np.log(y)\n",
    "XtX = X_n.T @ X_n\n",
    "XtX_inv = np.linalg.inv(XtX)\n",
    "Xty = X_n.T @ y_n\n",
    "beta = XtX_inv @ Xty\n",
    "beta"
   ],
   "id": "1b7caf2b5748094a",
   "outputs": [
    {
     "data": {
      "text/plain": [
       "array([ 4.87367985, -0.02685064])"
      ]
     },
     "execution_count": 88,
     "metadata": {},
     "output_type": "execute_result"
    }
   ],
   "execution_count": 88
  },
  {
   "metadata": {
    "ExecuteTime": {
     "end_time": "2025-09-30T18:41:59.274129Z",
     "start_time": "2025-09-30T18:41:59.154190Z"
    }
   },
   "cell_type": "code",
   "source": [
    "plt.scatter(x, y, color='blue', label='Данные')\n",
    "\n",
    "x_line = np.linspace(min(x), max(x), 100)\n",
    "y_line = np.exp((beta[1] * x_line) + beta[0])\n",
    "\n",
    "plt.plot(x_line, y_line, color='red')\n",
    "\n",
    "plt.xlabel('X')\n",
    "plt.ylabel('Y')\n",
    "plt.legend()\n",
    "plt.grid(True)\n",
    "plt.show()"
   ],
   "id": "ce803ae7ed3c69e2",
   "outputs": [
    {
     "data": {
      "text/plain": [
       "<Figure size 640x480 with 1 Axes>"
      ],
      "image/png": "[encoded data removed]"
     },
     "metadata": {},
     "output_type": "display_data"
    }
   ],
   "execution_count": 90
  },
  {
   "metadata": {
    "ExecuteTime": {
     "end_time": "2025-09-30T18:51:04.072205Z",
     "start_time": "2025-09-30T18:51:04.028052Z"
    }
   },
   "cell_type": "code",
   "source": [
    "from scipy.stats import fisher_exact\n",
    "\n",
    "fisher_exact([a * x + b, y])"
   ],
   "id": "413cbed2d0f153fc",
   "outputs": [
    {
     "data": {
      "text/plain": [
       "SignificanceResult(statistic=np.float64(8.330852968812752e-15), pvalue=np.float64(0.9832))"
      ]
     },
     "execution_count": 97,
     "metadata": {},
     "output_type": "execute_result"
    }
   ],
   "execution_count": 97
  },
  {
   "metadata": {},
   "cell_type": "code",
   "outputs": [],
   "execution_count": null,
   "source": "",
   "id": "12027e52a360c911"
  }
 ],
 "metadata": {
  "kernelspec": {
   "display_name": "Python 3",
   "language": "python",
   "name": "python3"
  },
  "language_info": {
   "codemirror_mode": {
    "name": "ipython",
    "version": 2
   },
   "file_extension": ".py",
   "mimetype": "text/x-python",
   "name": "python",
   "nbconvert_exporter": "python",
   "pygments_lexer": "ipython2",
   "version": "2.7.6"
  }
 },
 "nbformat": 4,
 "nbformat_minor": 5
}
