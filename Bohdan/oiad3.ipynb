{
 "cells": [
  {
   "cell_type": "code",
   "id": "initial_id",
   "metadata": {
    "collapsed": true,
    "ExecuteTime": {
     "end_time": "2025-10-21T18:17:18.409484Z",
     "start_time": "2025-10-21T18:17:18.114996Z"
    }
   },
   "source": [
    "import kagglehub\n",
    "\n",
    "path = kagglehub.dataset_download(\"mosapabdelghany/medical-insurance-cost-dataset\")\n",
    "\n",
    "print(\"Path to dataset files:\", path)"
   ],
   "outputs": [
    {
     "name": "stdout",
     "output_type": "stream",
     "text": [
      "Path to dataset files: /Users/eugenebohdan/.cache/kagglehub/datasets/mosapabdelghany/medical-insurance-cost-dataset/versions/1\n"
     ]
    }
   ],
   "execution_count": 28
  },
  {
   "metadata": {
    "ExecuteTime": {
     "end_time": "2025-10-21T18:17:18.438062Z",
     "start_time": "2025-10-21T18:17:18.433780Z"
    }
   },
   "cell_type": "code",
   "source": [
    "import pandas as pd\n",
    "\n",
    "df = pd.read_csv(\"insurance.csv\")"
   ],
   "id": "dd63ab093cc7cb4c",
   "outputs": [],
   "execution_count": 29
  },
  {
   "metadata": {
    "ExecuteTime": {
     "end_time": "2025-10-21T18:17:18.455923Z",
     "start_time": "2025-10-21T18:17:18.452243Z"
    }
   },
   "cell_type": "code",
   "source": "df.head()",
   "id": "f61b19a8aecb06de",
   "outputs": [
    {
     "data": {
      "text/plain": [
       "   age     sex     bmi  children smoker     region      charges\n",
       "0   19  female  27.900         0    yes  southwest  16884.92400\n",
       "1   18    male  33.770         1     no  southeast   1725.55230\n",
       "2   28    male  33.000         3     no  southeast   4449.46200\n",
       "3   33    male  22.705         0     no  northwest  21984.47061\n",
       "4   32    male  28.880         0     no  northwest   3866.85520"
      ],
      "text/html": [
       "<div>\n",
       "<style scoped>\n",
       "    .dataframe tbody tr th:only-of-type {\n",
       "        vertical-align: middle;\n",
       "    }\n",
       "\n",
       "    .dataframe tbody tr th {\n",
       "        vertical-align: top;\n",
       "    }\n",
       "\n",
       "    .dataframe thead th {\n",
       "        text-align: right;\n",
       "    }\n",
       "</style>\n",
       "<table border=\"1\" class=\"dataframe\">\n",
       "  <thead>\n",
       "    <tr style=\"text-align: right;\">\n",
       "      <th></th>\n",
       "      <th>age</th>\n",
       "      <th>sex</th>\n",
       "      <th>bmi</th>\n",
       "      <th>children</th>\n",
       "      <th>smoker</th>\n",
       "      <th>region</th>\n",
       "      <th>charges</th>\n",
       "    </tr>\n",
       "  </thead>\n",
       "  <tbody>\n",
       "    <tr>\n",
       "      <th>0</th>\n",
       "      <td>19</td>\n",
       "      <td>female</td>\n",
       "      <td>27.900</td>\n",
       "      <td>0</td>\n",
       "      <td>yes</td>\n",
       "      <td>southwest</td>\n",
       "      <td>16884.92400</td>\n",
       "    </tr>\n",
       "    <tr>\n",
       "      <th>1</th>\n",
       "      <td>18</td>\n",
       "      <td>male</td>\n",
       "      <td>33.770</td>\n",
       "      <td>1</td>\n",
       "      <td>no</td>\n",
       "      <td>southeast</td>\n",
       "      <td>1725.55230</td>\n",
       "    </tr>\n",
       "    <tr>\n",
       "      <th>2</th>\n",
       "      <td>28</td>\n",
       "      <td>male</td>\n",
       "      <td>33.000</td>\n",
       "      <td>3</td>\n",
       "      <td>no</td>\n",
       "      <td>southeast</td>\n",
       "      <td>4449.46200</td>\n",
       "    </tr>\n",
       "    <tr>\n",
       "      <th>3</th>\n",
       "      <td>33</td>\n",
       "      <td>male</td>\n",
       "      <td>22.705</td>\n",
       "      <td>0</td>\n",
       "      <td>no</td>\n",
       "      <td>northwest</td>\n",
       "      <td>21984.47061</td>\n",
       "    </tr>\n",
       "    <tr>\n",
       "      <th>4</th>\n",
       "      <td>32</td>\n",
       "      <td>male</td>\n",
       "      <td>28.880</td>\n",
       "      <td>0</td>\n",
       "      <td>no</td>\n",
       "      <td>northwest</td>\n",
       "      <td>3866.85520</td>\n",
       "    </tr>\n",
       "  </tbody>\n",
       "</table>\n",
       "</div>"
      ]
     },
     "execution_count": 30,
     "metadata": {},
     "output_type": "execute_result"
    }
   ],
   "execution_count": 30
  },
  {
   "metadata": {
    "ExecuteTime": {
     "end_time": "2025-10-21T18:17:18.486675Z",
     "start_time": "2025-10-21T18:17:18.482900Z"
    }
   },
   "cell_type": "code",
   "source": "df.info()",
   "id": "5ae93158a794a868",
   "outputs": [
    {
     "name": "stdout",
     "output_type": "stream",
     "text": [
      "<class 'pandas.core.frame.DataFrame'>\n",
      "RangeIndex: 1338 entries, 0 to 1337\n",
      "Data columns (total 7 columns):\n",
      " #   Column    Non-Null Count  Dtype  \n",
      "---  ------    --------------  -----  \n",
      " 0   age       1338 non-null   int64  \n",
      " 1   sex       1338 non-null   object \n",
      " 2   bmi       1338 non-null   float64\n",
      " 3   children  1338 non-null   int64  \n",
      " 4   smoker    1338 non-null   object \n",
      " 5   region    1338 non-null   object \n",
      " 6   charges   1338 non-null   float64\n",
      "dtypes: float64(2), int64(2), object(3)\n",
      "memory usage: 73.3+ KB\n"
     ]
    }
   ],
   "execution_count": 31
  },
  {
   "metadata": {
    "ExecuteTime": {
     "end_time": "2025-10-21T18:17:18.513582Z",
     "start_time": "2025-10-21T18:17:18.510724Z"
    }
   },
   "cell_type": "code",
   "source": "df.isnull().sum()",
   "id": "ccaff6f98415d032",
   "outputs": [
    {
     "data": {
      "text/plain": [
       "age         0\n",
       "sex         0\n",
       "bmi         0\n",
       "children    0\n",
       "smoker      0\n",
       "region      0\n",
       "charges     0\n",
       "dtype: int64"
      ]
     },
     "execution_count": 32,
     "metadata": {},
     "output_type": "execute_result"
    }
   ],
   "execution_count": 32
  },
  {
   "metadata": {
    "ExecuteTime": {
     "end_time": "2025-10-21T18:17:18.548701Z",
     "start_time": "2025-10-21T18:17:18.546278Z"
    }
   },
   "cell_type": "code",
   "source": "df.isna().sum()",
   "id": "f1253be42761294a",
   "outputs": [
    {
     "data": {
      "text/plain": [
       "age         0\n",
       "sex         0\n",
       "bmi         0\n",
       "children    0\n",
       "smoker      0\n",
       "region      0\n",
       "charges     0\n",
       "dtype: int64"
      ]
     },
     "execution_count": 33,
     "metadata": {},
     "output_type": "execute_result"
    }
   ],
   "execution_count": 33
  },
  {
   "metadata": {
    "ExecuteTime": {
     "end_time": "2025-10-21T18:17:18.598855Z",
     "start_time": "2025-10-21T18:17:18.597098Z"
    }
   },
   "cell_type": "code",
   "source": [
    "num_columns = [\"age\", \"bmi\", \"charges\"]\n",
    "val_columns = [\"sex\", \"children\", \"smoker\", \"region\"]"
   ],
   "id": "344d51cb81dd67fe",
   "outputs": [],
   "execution_count": 34
  },
  {
   "metadata": {
    "ExecuteTime": {
     "end_time": "2025-10-21T18:17:18.636041Z",
     "start_time": "2025-10-21T18:17:18.633156Z"
    }
   },
   "cell_type": "code",
   "source": [
    "for col in val_columns:\n",
    "    print(df[col].value_counts())\n",
    "    print(\"-\" * 50)"
   ],
   "id": "bc1fb5a600dbbbe9",
   "outputs": [
    {
     "name": "stdout",
     "output_type": "stream",
     "text": [
      "sex\n",
      "male      676\n",
      "female    662\n",
      "Name: count, dtype: int64\n",
      "--------------------------------------------------\n",
      "children\n",
      "0    574\n",
      "1    324\n",
      "2    240\n",
      "3    157\n",
      "4     25\n",
      "5     18\n",
      "Name: count, dtype: int64\n",
      "--------------------------------------------------\n",
      "smoker\n",
      "no     1064\n",
      "yes     274\n",
      "Name: count, dtype: int64\n",
      "--------------------------------------------------\n",
      "region\n",
      "southeast    364\n",
      "southwest    325\n",
      "northwest    325\n",
      "northeast    324\n",
      "Name: count, dtype: int64\n",
      "--------------------------------------------------\n"
     ]
    }
   ],
   "execution_count": 35
  },
  {
   "metadata": {
    "ExecuteTime": {
     "end_time": "2025-10-21T18:17:18.654754Z",
     "start_time": "2025-10-21T18:17:18.651169Z"
    }
   },
   "cell_type": "code",
   "source": [
    "mask = ((df[num_columns] - df[num_columns].mean()).abs() <= 3 * df[num_columns].std()).all(axis=1)\n",
    "df = df[mask]"
   ],
   "id": "36d26225f1ac3bae",
   "outputs": [],
   "execution_count": 36
  },
  {
   "metadata": {
    "ExecuteTime": {
     "end_time": "2025-10-21T18:17:18.670990Z",
     "start_time": "2025-10-21T18:17:18.666628Z"
    }
   },
   "cell_type": "code",
   "source": [
    "df.info()\n",
    "df.isnull().sum()"
   ],
   "id": "b376c8978dead5ba",
   "outputs": [
    {
     "name": "stdout",
     "output_type": "stream",
     "text": [
      "<class 'pandas.core.frame.DataFrame'>\n",
      "Index: 1327 entries, 0 to 1337\n",
      "Data columns (total 7 columns):\n",
      " #   Column    Non-Null Count  Dtype  \n",
      "---  ------    --------------  -----  \n",
      " 0   age       1327 non-null   int64  \n",
      " 1   sex       1327 non-null   object \n",
      " 2   bmi       1327 non-null   float64\n",
      " 3   children  1327 non-null   int64  \n",
      " 4   smoker    1327 non-null   object \n",
      " 5   region    1327 non-null   object \n",
      " 6   charges   1327 non-null   float64\n",
      "dtypes: float64(2), int64(2), object(3)\n",
      "memory usage: 82.9+ KB\n"
     ]
    },
    {
     "data": {
      "text/plain": [
       "age         0\n",
       "sex         0\n",
       "bmi         0\n",
       "children    0\n",
       "smoker      0\n",
       "region      0\n",
       "charges     0\n",
       "dtype: int64"
      ]
     },
     "execution_count": 37,
     "metadata": {},
     "output_type": "execute_result"
    }
   ],
   "execution_count": 37
  },
  {
   "metadata": {
    "ExecuteTime": {
     "end_time": "2025-10-21T18:17:18.729485Z",
     "start_time": "2025-10-21T18:17:18.726277Z"
    }
   },
   "cell_type": "code",
   "source": "df = pd.get_dummies(df, columns=val_columns, drop_first=True)",
   "id": "70a9eff4b84f9844",
   "outputs": [],
   "execution_count": 38
  },
  {
   "metadata": {
    "ExecuteTime": {
     "end_time": "2025-10-21T18:17:18.758344Z",
     "start_time": "2025-10-21T18:17:18.752943Z"
    }
   },
   "cell_type": "code",
   "source": "df",
   "id": "6e237fdb821aa2a",
   "outputs": [
    {
     "data": {
      "text/plain": [
       "      age     bmi      charges  sex_male  children_1  children_2  children_3  \\\n",
       "0      19  27.900  16884.92400     False       False       False       False   \n",
       "1      18  33.770   1725.55230      True        True       False       False   \n",
       "2      28  33.000   4449.46200      True       False       False        True   \n",
       "3      33  22.705  21984.47061      True       False       False       False   \n",
       "4      32  28.880   3866.85520      True       False       False       False   \n",
       "...   ...     ...          ...       ...         ...         ...         ...   \n",
       "1333   50  30.970  10600.54830      True       False       False        True   \n",
       "1334   18  31.920   2205.98080     False       False       False       False   \n",
       "1335   18  36.850   1629.83350     False       False       False       False   \n",
       "1336   21  25.800   2007.94500     False       False       False       False   \n",
       "1337   61  29.070  29141.36030     False       False       False       False   \n",
       "\n",
       "      children_4  children_5  smoker_yes  region_northwest  region_southeast  \\\n",
       "0          False       False        True             False             False   \n",
       "1          False       False       False             False              True   \n",
       "2          False       False       False             False              True   \n",
       "3          False       False       False              True             False   \n",
       "4          False       False       False              True             False   \n",
       "...          ...         ...         ...               ...               ...   \n",
       "1333       False       False       False              True             False   \n",
       "1334       False       False       False             False             False   \n",
       "1335       False       False       False             False              True   \n",
       "1336       False       False       False             False             False   \n",
       "1337       False       False        True              True             False   \n",
       "\n",
       "      region_southwest  \n",
       "0                 True  \n",
       "1                False  \n",
       "2                False  \n",
       "3                False  \n",
       "4                False  \n",
       "...                ...  \n",
       "1333             False  \n",
       "1334             False  \n",
       "1335             False  \n",
       "1336              True  \n",
       "1337             False  \n",
       "\n",
       "[1327 rows x 13 columns]"
      ],
      "text/html": [
       "<div>\n",
       "<style scoped>\n",
       "    .dataframe tbody tr th:only-of-type {\n",
       "        vertical-align: middle;\n",
       "    }\n",
       "\n",
       "    .dataframe tbody tr th {\n",
       "        vertical-align: top;\n",
       "    }\n",
       "\n",
       "    .dataframe thead th {\n",
       "        text-align: right;\n",
       "    }\n",
       "</style>\n",
       "<table border=\"1\" class=\"dataframe\">\n",
       "  <thead>\n",
       "    <tr style=\"text-align: right;\">\n",
       "      <th></th>\n",
       "      <th>age</th>\n",
       "      <th>bmi</th>\n",
       "      <th>charges</th>\n",
       "      <th>sex_male</th>\n",
       "      <th>children_1</th>\n",
       "      <th>children_2</th>\n",
       "      <th>children_3</th>\n",
       "      <th>children_4</th>\n",
       "      <th>children_5</th>\n",
       "      <th>smoker_yes</th>\n",
       "      <th>region_northwest</th>\n",
       "      <th>region_southeast</th>\n",
       "      <th>region_southwest</th>\n",
       "    </tr>\n",
       "  </thead>\n",
       "  <tbody>\n",
       "    <tr>\n",
       "      <th>0</th>\n",
       "      <td>19</td>\n",
       "      <td>27.900</td>\n",
       "      <td>16884.92400</td>\n",
       "      <td>False</td>\n",
       "      <td>False</td>\n",
       "      <td>False</td>\n",
       "      <td>False</td>\n",
       "      <td>False</td>\n",
       "      <td>False</td>\n",
       "      <td>True</td>\n",
       "      <td>False</td>\n",
       "      <td>False</td>\n",
       "      <td>True</td>\n",
       "    </tr>\n",
       "    <tr>\n",
       "      <th>1</th>\n",
       "      <td>18</td>\n",
       "      <td>33.770</td>\n",
       "      <td>1725.55230</td>\n",
       "      <td>True</td>\n",
       "      <td>True</td>\n",
       "      <td>False</td>\n",
       "      <td>False</td>\n",
       "      <td>False</td>\n",
       "      <td>False</td>\n",
       "      <td>False</td>\n",
       "      <td>False</td>\n",
       "      <td>True</td>\n",
       "      <td>False</td>\n",
       "    </tr>\n",
       "    <tr>\n",
       "      <th>2</th>\n",
       "      <td>28</td>\n",
       "      <td>33.000</td>\n",
       "      <td>4449.46200</td>\n",
       "      <td>True</td>\n",
       "      <td>False</td>\n",
       "      <td>False</td>\n",
       "      <td>True</td>\n",
       "      <td>False</td>\n",
       "      <td>False</td>\n",
       "      <td>False</td>\n",
       "      <td>False</td>\n",
       "      <td>True</td>\n",
       "      <td>False</td>\n",
       "    </tr>\n",
       "    <tr>\n",
       "      <th>3</th>\n",
       "      <td>33</td>\n",
       "      <td>22.705</td>\n",
       "      <td>21984.47061</td>\n",
       "      <td>True</td>\n",
       "      <td>False</td>\n",
       "      <td>False</td>\n",
       "      <td>False</td>\n",
       "      <td>False</td>\n",
       "      <td>False</td>\n",
       "      <td>False</td>\n",
       "      <td>True</td>\n",
       "      <td>False</td>\n",
       "      <td>False</td>\n",
       "    </tr>\n",
       "    <tr>\n",
       "      <th>4</th>\n",
       "      <td>32</td>\n",
       "      <td>28.880</td>\n",
       "      <td>3866.85520</td>\n",
       "      <td>True</td>\n",
       "      <td>False</td>\n",
       "      <td>False</td>\n",
       "      <td>False</td>\n",
       "      <td>False</td>\n",
       "      <td>False</td>\n",
       "      <td>False</td>\n",
       "      <td>True</td>\n",
       "      <td>False</td>\n",
       "      <td>False</td>\n",
       "    </tr>\n",
       "    <tr>\n",
       "      <th>...</th>\n",
       "      <td>...</td>\n",
       "      <td>...</td>\n",
       "      <td>...</td>\n",
       "      <td>...</td>\n",
       "      <td>...</td>\n",
       "      <td>...</td>\n",
       "      <td>...</td>\n",
       "      <td>...</td>\n",
       "      <td>...</td>\n",
       "      <td>...</td>\n",
       "      <td>...</td>\n",
       "      <td>...</td>\n",
       "      <td>...</td>\n",
       "    </tr>\n",
       "    <tr>\n",
       "      <th>1333</th>\n",
       "      <td>50</td>\n",
       "      <td>30.970</td>\n",
       "      <td>10600.54830</td>\n",
       "      <td>True</td>\n",
       "      <td>False</td>\n",
       "      <td>False</td>\n",
       "      <td>True</td>\n",
       "      <td>False</td>\n",
       "      <td>False</td>\n",
       "      <td>False</td>\n",
       "      <td>True</td>\n",
       "      <td>False</td>\n",
       "      <td>False</td>\n",
       "    </tr>\n",
       "    <tr>\n",
       "      <th>1334</th>\n",
       "      <td>18</td>\n",
       "      <td>31.920</td>\n",
       "      <td>2205.98080</td>\n",
       "      <td>False</td>\n",
       "      <td>False</td>\n",
       "      <td>False</td>\n",
       "      <td>False</td>\n",
       "      <td>False</td>\n",
       "      <td>False</td>\n",
       "      <td>False</td>\n",
       "      <td>False</td>\n",
       "      <td>False</td>\n",
       "      <td>False</td>\n",
       "    </tr>\n",
       "    <tr>\n",
       "      <th>1335</th>\n",
       "      <td>18</td>\n",
       "      <td>36.850</td>\n",
       "      <td>1629.83350</td>\n",
       "      <td>False</td>\n",
       "      <td>False</td>\n",
       "      <td>False</td>\n",
       "      <td>False</td>\n",
       "      <td>False</td>\n",
       "      <td>False</td>\n",
       "      <td>False</td>\n",
       "      <td>False</td>\n",
       "      <td>True</td>\n",
       "      <td>False</td>\n",
       "    </tr>\n",
       "    <tr>\n",
       "      <th>1336</th>\n",
       "      <td>21</td>\n",
       "      <td>25.800</td>\n",
       "      <td>2007.94500</td>\n",
       "      <td>False</td>\n",
       "      <td>False</td>\n",
       "      <td>False</td>\n",
       "      <td>False</td>\n",
       "      <td>False</td>\n",
       "      <td>False</td>\n",
       "      <td>False</td>\n",
       "      <td>False</td>\n",
       "      <td>False</td>\n",
       "      <td>True</td>\n",
       "    </tr>\n",
       "    <tr>\n",
       "      <th>1337</th>\n",
       "      <td>61</td>\n",
       "      <td>29.070</td>\n",
       "      <td>29141.36030</td>\n",
       "      <td>False</td>\n",
       "      <td>False</td>\n",
       "      <td>False</td>\n",
       "      <td>False</td>\n",
       "      <td>False</td>\n",
       "      <td>False</td>\n",
       "      <td>True</td>\n",
       "      <td>True</td>\n",
       "      <td>False</td>\n",
       "      <td>False</td>\n",
       "    </tr>\n",
       "  </tbody>\n",
       "</table>\n",
       "<p>1327 rows × 13 columns</p>\n",
       "</div>"
      ]
     },
     "execution_count": 39,
     "metadata": {},
     "output_type": "execute_result"
    }
   ],
   "execution_count": 39
  },
  {
   "metadata": {
    "ExecuteTime": {
     "end_time": "2025-10-21T18:17:18.799765Z",
     "start_time": "2025-10-21T18:17:18.793459Z"
    }
   },
   "cell_type": "code",
   "source": "df.corr()",
   "id": "eef2736614c9fe9c",
   "outputs": [
    {
     "data": {
      "text/plain": [
       "                       age       bmi   charges  sex_male  children_1  \\\n",
       "age               1.000000  0.117993  0.307088 -0.020610    0.016439   \n",
       "bmi               0.117993  1.000000  0.189087  0.039539   -0.011237   \n",
       "charges           0.307088  0.189087  1.000000  0.057332   -0.030456   \n",
       "sex_male         -0.020610  0.039539  0.057332  1.000000    0.006747   \n",
       "children_1        0.016439 -0.011237 -0.030456  0.006747    1.000000   \n",
       "children_2        0.007810  0.031964  0.082215  0.000729   -0.264881   \n",
       "children_3        0.059478  0.005438  0.063720  0.002204   -0.205752   \n",
       "children_4       -0.002098  0.018985  0.009728  0.015689   -0.078113   \n",
       "children_5       -0.030085 -0.018912 -0.042649  0.012234   -0.066104   \n",
       "smoker_yes       -0.027158 -0.007974  0.784889  0.075665   -0.027038   \n",
       "region_northwest -0.001456 -0.133263 -0.043408 -0.009115   -0.015968   \n",
       "region_southeast -0.010169  0.259238  0.074570  0.012856    0.026473   \n",
       "region_southwest  0.008677  0.000101 -0.045151 -0.005603   -0.003653   \n",
       "\n",
       "                  children_2  children_3  children_4  children_5  smoker_yes  \\\n",
       "age                 0.007810    0.059478   -0.002098   -0.030085   -0.027158   \n",
       "bmi                 0.031964    0.005438    0.018985   -0.018912   -0.007974   \n",
       "charges             0.082215    0.063720    0.009728   -0.042649    0.784889   \n",
       "sex_male            0.000729    0.002204    0.015689    0.012234    0.075665   \n",
       "children_1         -0.264881   -0.205752   -0.078113   -0.066104   -0.027038   \n",
       "children_2          1.000000   -0.171504   -0.065111   -0.055101    0.033703   \n",
       "children_3         -0.171504    1.000000   -0.050576   -0.042801    0.039329   \n",
       "children_4         -0.065111   -0.050576    1.000000   -0.016249   -0.027847   \n",
       "children_5         -0.055101   -0.042801   -0.016249    1.000000   -0.042442   \n",
       "smoker_yes          0.033703    0.039329   -0.027847   -0.042442    1.000000   \n",
       "region_northwest    0.034594    0.038321   -0.001100   -0.051331   -0.038363   \n",
       "region_southeast    0.005525   -0.037353   -0.021786    0.016790    0.068866   \n",
       "region_southwest   -0.006467   -0.005296    0.011816    0.054935   -0.038363   \n",
       "\n",
       "                  region_northwest  region_southeast  region_southwest  \n",
       "age                      -0.001456         -0.010169          0.008677  \n",
       "bmi                      -0.133263          0.259238          0.000101  \n",
       "charges                  -0.043408          0.074570         -0.045151  \n",
       "sex_male                 -0.009115          0.012856         -0.005603  \n",
       "children_1               -0.015968          0.026473         -0.003653  \n",
       "children_2                0.034594          0.005525         -0.006467  \n",
       "children_3                0.038321         -0.037353         -0.005296  \n",
       "children_4               -0.001100         -0.021786          0.011816  \n",
       "children_5               -0.051331          0.016790          0.054935  \n",
       "smoker_yes               -0.038363          0.068866         -0.038363  \n",
       "region_northwest          1.000000         -0.344758         -0.321713  \n",
       "region_southeast         -0.344758          1.000000         -0.344758  \n",
       "region_southwest         -0.321713         -0.344758          1.000000  "
      ],
      "text/html": [
       "<div>\n",
       "<style scoped>\n",
       "    .dataframe tbody tr th:only-of-type {\n",
       "        vertical-align: middle;\n",
       "    }\n",
       "\n",
       "    .dataframe tbody tr th {\n",
       "        vertical-align: top;\n",
       "    }\n",
       "\n",
       "    .dataframe thead th {\n",
       "        text-align: right;\n",
       "    }\n",
       "</style>\n",
       "<table border=\"1\" class=\"dataframe\">\n",
       "  <thead>\n",
       "    <tr style=\"text-align: right;\">\n",
       "      <th></th>\n",
       "      <th>age</th>\n",
       "      <th>bmi</th>\n",
       "      <th>charges</th>\n",
       "      <th>sex_male</th>\n",
       "      <th>children_1</th>\n",
       "      <th>children_2</th>\n",
       "      <th>children_3</th>\n",
       "      <th>children_4</th>\n",
       "      <th>children_5</th>\n",
       "      <th>smoker_yes</th>\n",
       "      <th>region_northwest</th>\n",
       "      <th>region_southeast</th>\n",
       "      <th>region_southwest</th>\n",
       "    </tr>\n",
       "  </thead>\n",
       "  <tbody>\n",
       "    <tr>\n",
       "      <th>age</th>\n",
       "      <td>1.000000</td>\n",
       "      <td>0.117993</td>\n",
       "      <td>0.307088</td>\n",
       "      <td>-0.020610</td>\n",
       "      <td>0.016439</td>\n",
       "      <td>0.007810</td>\n",
       "      <td>0.059478</td>\n",
       "      <td>-0.002098</td>\n",
       "      <td>-0.030085</td>\n",
       "      <td>-0.027158</td>\n",
       "      <td>-0.001456</td>\n",
       "      <td>-0.010169</td>\n",
       "      <td>0.008677</td>\n",
       "    </tr>\n",
       "    <tr>\n",
       "      <th>bmi</th>\n",
       "      <td>0.117993</td>\n",
       "      <td>1.000000</td>\n",
       "      <td>0.189087</td>\n",
       "      <td>0.039539</td>\n",
       "      <td>-0.011237</td>\n",
       "      <td>0.031964</td>\n",
       "      <td>0.005438</td>\n",
       "      <td>0.018985</td>\n",
       "      <td>-0.018912</td>\n",
       "      <td>-0.007974</td>\n",
       "      <td>-0.133263</td>\n",
       "      <td>0.259238</td>\n",
       "      <td>0.000101</td>\n",
       "    </tr>\n",
       "    <tr>\n",
       "      <th>charges</th>\n",
       "      <td>0.307088</td>\n",
       "      <td>0.189087</td>\n",
       "      <td>1.000000</td>\n",
       "      <td>0.057332</td>\n",
       "      <td>-0.030456</td>\n",
       "      <td>0.082215</td>\n",
       "      <td>0.063720</td>\n",
       "      <td>0.009728</td>\n",
       "      <td>-0.042649</td>\n",
       "      <td>0.784889</td>\n",
       "      <td>-0.043408</td>\n",
       "      <td>0.074570</td>\n",
       "      <td>-0.045151</td>\n",
       "    </tr>\n",
       "    <tr>\n",
       "      <th>sex_male</th>\n",
       "      <td>-0.020610</td>\n",
       "      <td>0.039539</td>\n",
       "      <td>0.057332</td>\n",
       "      <td>1.000000</td>\n",
       "      <td>0.006747</td>\n",
       "      <td>0.000729</td>\n",
       "      <td>0.002204</td>\n",
       "      <td>0.015689</td>\n",
       "      <td>0.012234</td>\n",
       "      <td>0.075665</td>\n",
       "      <td>-0.009115</td>\n",
       "      <td>0.012856</td>\n",
       "      <td>-0.005603</td>\n",
       "    </tr>\n",
       "    <tr>\n",
       "      <th>children_1</th>\n",
       "      <td>0.016439</td>\n",
       "      <td>-0.011237</td>\n",
       "      <td>-0.030456</td>\n",
       "      <td>0.006747</td>\n",
       "      <td>1.000000</td>\n",
       "      <td>-0.264881</td>\n",
       "      <td>-0.205752</td>\n",
       "      <td>-0.078113</td>\n",
       "      <td>-0.066104</td>\n",
       "      <td>-0.027038</td>\n",
       "      <td>-0.015968</td>\n",
       "      <td>0.026473</td>\n",
       "      <td>-0.003653</td>\n",
       "    </tr>\n",
       "    <tr>\n",
       "      <th>children_2</th>\n",
       "      <td>0.007810</td>\n",
       "      <td>0.031964</td>\n",
       "      <td>0.082215</td>\n",
       "      <td>0.000729</td>\n",
       "      <td>-0.264881</td>\n",
       "      <td>1.000000</td>\n",
       "      <td>-0.171504</td>\n",
       "      <td>-0.065111</td>\n",
       "      <td>-0.055101</td>\n",
       "      <td>0.033703</td>\n",
       "      <td>0.034594</td>\n",
       "      <td>0.005525</td>\n",
       "      <td>-0.006467</td>\n",
       "    </tr>\n",
       "    <tr>\n",
       "      <th>children_3</th>\n",
       "      <td>0.059478</td>\n",
       "      <td>0.005438</td>\n",
       "      <td>0.063720</td>\n",
       "      <td>0.002204</td>\n",
       "      <td>-0.205752</td>\n",
       "      <td>-0.171504</td>\n",
       "      <td>1.000000</td>\n",
       "      <td>-0.050576</td>\n",
       "      <td>-0.042801</td>\n",
       "      <td>0.039329</td>\n",
       "      <td>0.038321</td>\n",
       "      <td>-0.037353</td>\n",
       "      <td>-0.005296</td>\n",
       "    </tr>\n",
       "    <tr>\n",
       "      <th>children_4</th>\n",
       "      <td>-0.002098</td>\n",
       "      <td>0.018985</td>\n",
       "      <td>0.009728</td>\n",
       "      <td>0.015689</td>\n",
       "      <td>-0.078113</td>\n",
       "      <td>-0.065111</td>\n",
       "      <td>-0.050576</td>\n",
       "      <td>1.000000</td>\n",
       "      <td>-0.016249</td>\n",
       "      <td>-0.027847</td>\n",
       "      <td>-0.001100</td>\n",
       "      <td>-0.021786</td>\n",
       "      <td>0.011816</td>\n",
       "    </tr>\n",
       "    <tr>\n",
       "      <th>children_5</th>\n",
       "      <td>-0.030085</td>\n",
       "      <td>-0.018912</td>\n",
       "      <td>-0.042649</td>\n",
       "      <td>0.012234</td>\n",
       "      <td>-0.066104</td>\n",
       "      <td>-0.055101</td>\n",
       "      <td>-0.042801</td>\n",
       "      <td>-0.016249</td>\n",
       "      <td>1.000000</td>\n",
       "      <td>-0.042442</td>\n",
       "      <td>-0.051331</td>\n",
       "      <td>0.016790</td>\n",
       "      <td>0.054935</td>\n",
       "    </tr>\n",
       "    <tr>\n",
       "      <th>smoker_yes</th>\n",
       "      <td>-0.027158</td>\n",
       "      <td>-0.007974</td>\n",
       "      <td>0.784889</td>\n",
       "      <td>0.075665</td>\n",
       "      <td>-0.027038</td>\n",
       "      <td>0.033703</td>\n",
       "      <td>0.039329</td>\n",
       "      <td>-0.027847</td>\n",
       "      <td>-0.042442</td>\n",
       "      <td>1.000000</td>\n",
       "      <td>-0.038363</td>\n",
       "      <td>0.068866</td>\n",
       "      <td>-0.038363</td>\n",
       "    </tr>\n",
       "    <tr>\n",
       "      <th>region_northwest</th>\n",
       "      <td>-0.001456</td>\n",
       "      <td>-0.133263</td>\n",
       "      <td>-0.043408</td>\n",
       "      <td>-0.009115</td>\n",
       "      <td>-0.015968</td>\n",
       "      <td>0.034594</td>\n",
       "      <td>0.038321</td>\n",
       "      <td>-0.001100</td>\n",
       "      <td>-0.051331</td>\n",
       "      <td>-0.038363</td>\n",
       "      <td>1.000000</td>\n",
       "      <td>-0.344758</td>\n",
       "      <td>-0.321713</td>\n",
       "    </tr>\n",
       "    <tr>\n",
       "      <th>region_southeast</th>\n",
       "      <td>-0.010169</td>\n",
       "      <td>0.259238</td>\n",
       "      <td>0.074570</td>\n",
       "      <td>0.012856</td>\n",
       "      <td>0.026473</td>\n",
       "      <td>0.005525</td>\n",
       "      <td>-0.037353</td>\n",
       "      <td>-0.021786</td>\n",
       "      <td>0.016790</td>\n",
       "      <td>0.068866</td>\n",
       "      <td>-0.344758</td>\n",
       "      <td>1.000000</td>\n",
       "      <td>-0.344758</td>\n",
       "    </tr>\n",
       "    <tr>\n",
       "      <th>region_southwest</th>\n",
       "      <td>0.008677</td>\n",
       "      <td>0.000101</td>\n",
       "      <td>-0.045151</td>\n",
       "      <td>-0.005603</td>\n",
       "      <td>-0.003653</td>\n",
       "      <td>-0.006467</td>\n",
       "      <td>-0.005296</td>\n",
       "      <td>0.011816</td>\n",
       "      <td>0.054935</td>\n",
       "      <td>-0.038363</td>\n",
       "      <td>-0.321713</td>\n",
       "      <td>-0.344758</td>\n",
       "      <td>1.000000</td>\n",
       "    </tr>\n",
       "  </tbody>\n",
       "</table>\n",
       "</div>"
      ]
     },
     "execution_count": 40,
     "metadata": {},
     "output_type": "execute_result"
    }
   ],
   "execution_count": 40
  },
  {
   "metadata": {
    "ExecuteTime": {
     "end_time": "2025-10-21T18:17:18.847263Z",
     "start_time": "2025-10-21T18:17:18.844155Z"
    }
   },
   "cell_type": "code",
   "source": [
    "\n",
    "from sklearn.base import RegressorMixin\n",
    "from numpy.linalg import norm\n",
    "import numpy as np\n",
    "\n",
    "\n",
    "class SGDLinearRegressor(RegressorMixin):\n",
    "    def __init__(\n",
    "            self,\n",
    "            lr=0.1,\n",
    "            regularization=0,\n",
    "            delta_converged=1e-4,\n",
    "            max_steps=20000,\n",
    "            batch_size=64,\n",
    "    ):\n",
    "        self.lr = lr\n",
    "        self.regularization = regularization\n",
    "        self.max_steps = max_steps\n",
    "        self.delta_converged = delta_converged\n",
    "        self.batch_size = batch_size\n",
    "\n",
    "        self.W = None\n",
    "        self.b = None\n",
    "\n",
    "    def fit(self, X, Y):\n",
    "        self.W = np.random.rand(X.shape[1])\n",
    "        self.b = 0\n",
    "\n",
    "        for _ in range(self.max_steps):\n",
    "            indexes = np.random.choice(np.arange(X.shape[0]), self.batch_size)\n",
    "            X_batch = X[indexes]\n",
    "            Y_batch = Y[indexes]\n",
    "\n",
    "            y_pred = X_batch.dot(self.W) + self.b\n",
    "            grad_w = 2 * (X_batch.T.dot(y_pred - Y_batch) / self.batch_size + self.regularization * self.W)\n",
    "            grad_b = 2 * np.sum(y_pred - Y_batch) / self.batch_size\n",
    "\n",
    "            old_w = self.W.copy()\n",
    "            self.W -= self.lr * grad_w\n",
    "            self.b -= self.lr * grad_b\n",
    "\n",
    "            if norm(self.W - old_w) < self.delta_converged:\n",
    "                break\n",
    "        return self\n",
    "\n",
    "    def predict(self, X):\n",
    "        return X.dot(self.W) + self.b"
   ],
   "id": "6821e8a8b676ed4f",
   "outputs": [],
   "execution_count": 41
  },
  {
   "metadata": {
    "ExecuteTime": {
     "end_time": "2025-10-21T18:17:18.887794Z",
     "start_time": "2025-10-21T18:17:18.884138Z"
    }
   },
   "cell_type": "code",
   "source": [
    "bool_columns = df.select_dtypes(include=['bool']).columns\n",
    "df[bool_columns] = df[bool_columns].astype(int)\n",
    "int_columns = df.select_dtypes(include=['int']).columns\n",
    "df[int_columns] = df[int_columns].astype(float)"
   ],
   "id": "622c73eccc246a76",
   "outputs": [],
   "execution_count": 42
  },
  {
   "metadata": {
    "ExecuteTime": {
     "end_time": "2025-10-21T18:17:18.913472Z",
     "start_time": "2025-10-21T18:17:18.911324Z"
    }
   },
   "cell_type": "code",
   "source": [
    "Y = df[\"charges\"].to_numpy()\n",
    "X = df.drop('charges', axis=1).to_numpy()"
   ],
   "id": "292da9eedbe70f54",
   "outputs": [],
   "execution_count": 43
  },
  {
   "metadata": {
    "ExecuteTime": {
     "end_time": "2025-10-21T18:17:18.928096Z",
     "start_time": "2025-10-21T18:17:18.925048Z"
    }
   },
   "cell_type": "code",
   "source": "df.info()",
   "id": "9dc2c79a514ea94b",
   "outputs": [
    {
     "name": "stdout",
     "output_type": "stream",
     "text": [
      "<class 'pandas.core.frame.DataFrame'>\n",
      "Index: 1327 entries, 0 to 1337\n",
      "Data columns (total 13 columns):\n",
      " #   Column            Non-Null Count  Dtype  \n",
      "---  ------            --------------  -----  \n",
      " 0   age               1327 non-null   float64\n",
      " 1   bmi               1327 non-null   float64\n",
      " 2   charges           1327 non-null   float64\n",
      " 3   sex_male          1327 non-null   float64\n",
      " 4   children_1        1327 non-null   float64\n",
      " 5   children_2        1327 non-null   float64\n",
      " 6   children_3        1327 non-null   float64\n",
      " 7   children_4        1327 non-null   float64\n",
      " 8   children_5        1327 non-null   float64\n",
      " 9   smoker_yes        1327 non-null   float64\n",
      " 10  region_northwest  1327 non-null   float64\n",
      " 11  region_southeast  1327 non-null   float64\n",
      " 12  region_southwest  1327 non-null   float64\n",
      "dtypes: float64(13)\n",
      "memory usage: 145.1 KB\n"
     ]
    }
   ],
   "execution_count": 44
  },
  {
   "metadata": {
    "ExecuteTime": {
     "end_time": "2025-10-21T18:17:18.948616Z",
     "start_time": "2025-10-21T18:17:18.946342Z"
    }
   },
   "cell_type": "code",
   "source": [
    "from sklearn.model_selection import train_test_split\n",
    "\n",
    "X_train, X_test, Y_train, Y_test = train_test_split(X, Y, test_size=0.3, random_state=42)"
   ],
   "id": "476734b4c75862f8",
   "outputs": [],
   "execution_count": 45
  },
  {
   "metadata": {
    "ExecuteTime": {
     "end_time": "2025-10-21T18:17:19.219593Z",
     "start_time": "2025-10-21T18:17:18.961883Z"
    }
   },
   "cell_type": "code",
   "source": [
    "from sklearn.preprocessing import StandardScaler\n",
    "from sklearn.metrics import mean_squared_error\n",
    "\n",
    "regressor = SGDLinearRegressor()\n",
    "scaler = StandardScaler()\n",
    "X_train = scaler.fit_transform(X_train)\n",
    "regressor.fit(X_train, Y_train)\n",
    "X_test = scaler.transform(X_test)\n",
    "y_pred_no_loss_numerical = regressor.predict(X_test)\n",
    "print(f\"MSE: {mean_squared_error(Y_test, y_pred_no_loss_numerical):.2e}\")"
   ],
   "id": "13285275ac4eda1a",
   "outputs": [
    {
     "name": "stdout",
     "output_type": "stream",
     "text": [
      "MSE: 3.55e+07\n"
     ]
    }
   ],
   "execution_count": 46
  },
  {
   "metadata": {
    "ExecuteTime": {
     "end_time": "2025-10-21T18:17:19.484188Z",
     "start_time": "2025-10-21T18:17:19.230515Z"
    }
   },
   "cell_type": "code",
   "source": [
    "regressor1 = SGDLinearRegressor(regularization=0.1)\n",
    "regressor1.fit(X_train, Y_train)\n",
    "y_pred_loss_numerical = regressor1.predict(X_test)\n",
    "print(f\"MSE: {mean_squared_error(Y_test, y_pred_loss_numerical):.2e}\")"
   ],
   "id": "47b3c3f82e066609",
   "outputs": [
    {
     "name": "stdout",
     "output_type": "stream",
     "text": [
      "MSE: 3.60e+07\n"
     ]
    }
   ],
   "execution_count": 47
  },
  {
   "metadata": {
    "ExecuteTime": {
     "end_time": "2025-10-21T18:17:19.507118Z",
     "start_time": "2025-10-21T18:17:19.505069Z"
    }
   },
   "cell_type": "code",
   "source": [
    "import numpy as np\n",
    "from sklearn.base import RegressorMixin\n",
    "\n",
    "\n",
    "class AnalyticalLinearRegressor(RegressorMixin):\n",
    "    def __init__(self, regularization=0):\n",
    "        self.regularization = regularization\n",
    "        self.W = None\n",
    "        self.b = None\n",
    "\n",
    "    def fit(self, X, Y):\n",
    "        X_augmented = np.column_stack([np.ones(X.shape[0]), X])\n",
    "        reg_matrix = self.regularization * np.eye(X_augmented.shape[1])\n",
    "        reg_matrix[0, 0] = 0\n",
    "\n",
    "        theta = np.linalg.pinv(X_augmented.T @ X_augmented + reg_matrix) @ X_augmented.T @ Y\n",
    "        self.b = theta[0]\n",
    "        self.W = theta[1:]\n",
    "        return self\n",
    "\n",
    "\n",
    "    def predict(self, X):\n",
    "        return X.dot(self.W) + self.b"
   ],
   "id": "b37e8c46ccf28916",
   "outputs": [],
   "execution_count": 48
  },
  {
   "metadata": {
    "ExecuteTime": {
     "end_time": "2025-10-21T18:17:19.520315Z",
     "start_time": "2025-10-21T18:17:19.517911Z"
    }
   },
   "cell_type": "code",
   "source": [
    "regressor2 = AnalyticalLinearRegressor()\n",
    "regressor2.fit(X_train, Y_train)\n",
    "y_pred_no_loss_analytic = regressor2.predict(X_test)\n",
    "print(f\"MSE: {mean_squared_error(Y_test, y_pred_no_loss_analytic):.2e}\")"
   ],
   "id": "c9fa6a828db9af4f",
   "outputs": [
    {
     "name": "stdout",
     "output_type": "stream",
     "text": [
      "MSE: 3.54e+07\n"
     ]
    }
   ],
   "execution_count": 49
  },
  {
   "metadata": {
    "ExecuteTime": {
     "end_time": "2025-10-21T18:17:19.534238Z",
     "start_time": "2025-10-21T18:17:19.531888Z"
    }
   },
   "cell_type": "code",
   "source": "np.abs(regressor2.W)",
   "id": "663cc71120c73a33",
   "outputs": [
    {
     "data": {
      "text/plain": [
       "array([3734.13407128, 1716.44236086,  208.3863239 ,  152.24066028,\n",
       "        602.75590829,  361.60971959,  566.12492714,  121.86042412,\n",
       "       9185.41076631,  411.19123184,  508.37644343,  574.31253501])"
      ]
     },
     "execution_count": 50,
     "metadata": {},
     "output_type": "execute_result"
    }
   ],
   "execution_count": 50
  },
  {
   "metadata": {
    "ExecuteTime": {
     "end_time": "2025-10-21T18:17:19.548572Z",
     "start_time": "2025-10-21T18:17:19.546295Z"
    }
   },
   "cell_type": "code",
   "source": [
    "regressor3 = AnalyticalLinearRegressor(regularization=100)\n",
    "regressor3.fit(X_train, Y_train)\n",
    "y_pred_loss_analytic = regressor3.predict(X_test)\n",
    "print(f\"MSE: {mean_squared_error(Y_test, y_pred_loss_analytic):.2e}\")"
   ],
   "id": "baff0de7b6943ca4",
   "outputs": [
    {
     "name": "stdout",
     "output_type": "stream",
     "text": [
      "MSE: 3.65e+07\n"
     ]
    }
   ],
   "execution_count": 51
  },
  {
   "metadata": {
    "ExecuteTime": {
     "end_time": "2025-10-21T18:17:19.561477Z",
     "start_time": "2025-10-21T18:17:19.559781Z"
    }
   },
   "cell_type": "code",
   "source": "np.abs(regressor3.W)",
   "id": "6c22a3e75befc08a",
   "outputs": [
    {
     "data": {
      "text/plain": [
       "array([3388.26620438, 1513.39718363,  115.17218315,   75.36966313,\n",
       "        495.97919166,  368.54642572,  486.71055408,   52.08253718,\n",
       "       8258.63377181,  331.81084035,  306.29548362,  433.46132063])"
      ]
     },
     "execution_count": 52,
     "metadata": {},
     "output_type": "execute_result"
    }
   ],
   "execution_count": 52
  },
  {
   "metadata": {
    "ExecuteTime": {
     "end_time": "2025-10-21T18:17:19.574531Z",
     "start_time": "2025-10-21T18:17:19.572854Z"
    }
   },
   "cell_type": "code",
   "source": [
    "import numpy as np\n",
    "from sklearn.base import RegressorMixin\n",
    "\n",
    "\n",
    "class DummyRegressor(RegressorMixin):\n",
    "    def __init__(self):\n",
    "        self.mean = None\n",
    "\n",
    "    def fit(self, X, Y):\n",
    "        self.mean = Y.mean()\n",
    "        return self\n",
    "\n",
    "\n",
    "    def predict(self, X):\n",
    "        return np.ones(X.shape[0]) * self.mean"
   ],
   "id": "6030cda068e79c29",
   "outputs": [],
   "execution_count": 53
  },
  {
   "metadata": {
    "ExecuteTime": {
     "end_time": "2025-10-21T18:17:19.587373Z",
     "start_time": "2025-10-21T18:17:19.585391Z"
    }
   },
   "cell_type": "code",
   "source": [
    "regressor4 = DummyRegressor()\n",
    "regressor4.fit(X_train, Y_train)\n",
    "y_pred_dummy = regressor4.predict(X_test)\n",
    "print(f\"MSE: {mean_squared_error(Y_test, y_pred_dummy):.2e}\")"
   ],
   "id": "b77cc186a7c50d0",
   "outputs": [
    {
     "name": "stdout",
     "output_type": "stream",
     "text": [
      "MSE: 1.42e+08\n"
     ]
    }
   ],
   "execution_count": 54
  },
  {
   "metadata": {
    "ExecuteTime": {
     "end_time": "2025-10-21T18:17:19.599979Z",
     "start_time": "2025-10-21T18:17:19.598950Z"
    }
   },
   "cell_type": "code",
   "source": "",
   "id": "e5348f2f3d081d47",
   "outputs": [],
   "execution_count": null
  }
 ],
 "metadata": {
  "kernelspec": {
   "display_name": "Python 3",
   "language": "python",
   "name": "python3"
  },
  "language_info": {
   "codemirror_mode": {
    "name": "ipython",
    "version": 2
   },
   "file_extension": ".py",
   "mimetype": "text/x-python",
   "name": "python",
   "nbconvert_exporter": "python",
   "pygments_lexer": "ipython2",
   "version": "2.7.6"
  }
 },
 "nbformat": 4,
 "nbformat_minor": 5
}
